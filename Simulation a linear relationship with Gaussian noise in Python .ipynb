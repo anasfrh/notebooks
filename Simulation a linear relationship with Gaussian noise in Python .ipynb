{
 "cells": [
  {
   "cell_type": "markdown",
   "metadata": {},
   "source": [
    "We simulate 1000 obersvations from a normal distribution with mean 2 and std deviation 3. \n",
    "We also simulate an error component from a normal distribution with mean 0 and standard deviation 3.\n",
    "We use these simulated values to create a series of linear models to check and test regression assumptions "
   ]
  },
  {
   "cell_type": "code",
   "execution_count": 31,
   "metadata": {},
   "outputs": [],
   "source": [
    "import numpy as np\n",
    "import statsmodels.api as sm\n",
    "import matplotlib.pyplot as plt \n",
    "mean = 2\n",
    "stdv = 3\n",
    "a = 1\n",
    "b = 3.3\n",
    "x = np.random.normal(mean, stdv, 1000)\n",
    "e = np.random.normal(0,3,1000)\n",
    "y = a + b*x + e"
   ]
  },
  {
   "cell_type": "code",
   "execution_count": 28,
   "metadata": {},
   "outputs": [
    {
     "data": {
      "image/png": "[encoded data removed]",
      "text/plain": [
       "<Figure size 432x288 with 1 Axes>"
      ]
     },
     "metadata": {
      "needs_background": "light"
     },
     "output_type": "display_data"
    }
   ],
   "source": [
    "plt.scatter(x,y)\n",
    "plt.show()\n"
   ]
  },
  {
   "cell_type": "code",
   "execution_count": 35,
   "metadata": {},
   "outputs": [
    {
     "name": "stdout",
     "output_type": "stream",
     "text": [
      "                                 OLS Regression Results                                \n",
      "=======================================================================================\n",
      "Dep. Variable:                      y   R-squared (uncentered):                   0.948\n",
      "Model:                            OLS   Adj. R-squared (uncentered):              0.947\n",
      "Method:                 Least Squares   F-statistic:                          1.804e+04\n",
      "Date:                Tue, 05 May 2020   Prob (F-statistic):                        0.00\n",
      "Time:                        01:01:16   Log-Likelihood:                         -2544.9\n",
      "No. Observations:                1000   AIC:                                      5092.\n",
      "Df Residuals:                     999   BIC:                                      5097.\n",
      "Df Model:                           1                                                  \n",
      "Covariance Type:            nonrobust                                                  \n",
      "==============================================================================\n",
      "                 coef    std err          t      P>|t|      [0.025      0.975]\n",
      "------------------------------------------------------------------------------\n",
      "x1             3.4564      0.026    134.323      0.000       3.406       3.507\n",
      "==============================================================================\n",
      "Omnibus:                        1.330   Durbin-Watson:                   1.868\n",
      "Prob(Omnibus):                  0.514   Jarque-Bera (JB):                1.234\n",
      "Skew:                          -0.019   Prob(JB):                        0.540\n",
      "Kurtosis:                       3.168   Cond. No.                         1.00\n",
      "==============================================================================\n",
      "\n",
      "Warnings:\n",
      "[1] Standard Errors assume that the covariance matrix of the errors is correctly specified.\n"
     ]
    }
   ],
   "source": [
    "model = sm.OLS(y,x).fit()\n",
    "print(model.summary())"
   ]
  },
  {
   "cell_type": "markdown",
   "metadata": {},
   "source": [
    "We will simulate the same model as the one above but with heterskedastic errors and see how it affects the confidence interval of the coefficient "
   ]
  },
  {
   "cell_type": "code",
   "execution_count": 40,
   "metadata": {},
   "outputs": [
    {
     "data": {
      "image/png": "[encoded data removed]",
      "text/plain": [
       "<Figure size 432x288 with 1 Axes>"
      ]
     },
     "metadata": {
      "needs_background": "light"
     },
     "output_type": "display_data"
    }
   ],
   "source": [
    "e1 = x*np.random.normal(0,1,1000)\n",
    "y1 = a + b*x + e1\n",
    "plt.scatter(x,y1)\n",
    "plt.show()"
   ]
  },
  {
   "cell_type": "code",
   "execution_count": 42,
   "metadata": {},
   "outputs": [
    {
     "name": "stdout",
     "output_type": "stream",
     "text": [
      "                                 OLS Regression Results                                \n",
      "=======================================================================================\n",
      "Dep. Variable:                      y   R-squared (uncentered):                   0.924\n",
      "Model:                            OLS   Adj. R-squared (uncentered):              0.924\n",
      "Method:                 Least Squares   F-statistic:                          1.213e+04\n",
      "Date:                Tue, 05 May 2020   Prob (F-statistic):                        0.00\n",
      "Time:                        01:06:46   Log-Likelihood:                         -2776.9\n",
      "No. Observations:                1000   AIC:                                      5556.\n",
      "Df Residuals:                     999   BIC:                                      5561.\n",
      "Df Model:                           1                                                  \n",
      "Covariance Type:            nonrobust                                                  \n",
      "==============================================================================\n",
      "                 coef    std err          t      P>|t|      [0.025      0.975]\n",
      "------------------------------------------------------------------------------\n",
      "x1             3.5736      0.032    110.130      0.000       3.510       3.637\n",
      "==============================================================================\n",
      "Omnibus:                       94.832   Durbin-Watson:                   1.913\n",
      "Prob(Omnibus):                  0.000   Jarque-Bera (JB):              610.007\n",
      "Skew:                           0.056   Prob(JB):                    3.46e-133\n",
      "Kurtosis:                       6.825   Cond. No.                         1.00\n",
      "==============================================================================\n",
      "\n",
      "Warnings:\n",
      "[1] Standard Errors assume that the covariance matrix of the errors is correctly specified.\n"
     ]
    }
   ],
   "source": [
    "model1 = sm.OLS(y1,x).fit()\n",
    "print(model1.summary())"
   ]
  }
 ],
 "metadata": {
  "kernelspec": {
   "display_name": "Python 3",
   "language": "python",
   "name": "python3"
  },
  "language_info": {
   "codemirror_mode": {
    "name": "ipython",
    "version": 3
   },
   "file_extension": ".py",
   "mimetype": "text/x-python",
   "name": "python",
   "nbconvert_exporter": "python",
   "pygments_lexer": "ipython3",
   "version": "3.7.6"
  }
 },
 "nbformat": 4,
 "nbformat_minor": 4
}
